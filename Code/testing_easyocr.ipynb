{
 "cells": [
  {
   "cell_type": "code",
   "execution_count": null,
   "metadata": {},
   "outputs": [],
   "source": [
    "# Install the OCR library\n",
    "! pip install -q easyocr\n",
    "# Install the OCR dependencies libraries\n",
    "! pip install -q torch torchvision\n",
    "# Install the libraries to convert the pdf files to images\n",
    "! pip install -q pdf2image\n",
    "# Install tqdm for progress bar\n",
    "! pip install -q tqdm"
   ]
  },
  {
   "cell_type": "code",
   "execution_count": null,
   "metadata": {},
   "outputs": [],
   "source": [
    "import easyocr\n",
    "from pdf2image import convert_from_path\n",
    "import os\n",
    "from tqdm import tqdm"
   ]
  },
  {
   "cell_type": "code",
   "execution_count": 7,
   "metadata": {},
   "outputs": [
    {
     "name": "stdout",
     "output_type": "stream",
     "text": [
      "Converting PDF to images...\n",
      "Processing images for OCR...\n"
     ]
    },
    {
     "name": "stderr",
     "output_type": "stream",
     "text": [
      "OCR Progress: 100%|██████████| 476/476 [26:53<00:00,  3.39s/page]"
     ]
    },
    {
     "name": "stdout",
     "output_type": "stream",
     "text": [
      "Saving extracted text to file...\n",
      "Text extraction complete. Saved to extracted_text_rtl.txt\n"
     ]
    },
    {
     "name": "stderr",
     "output_type": "stream",
     "text": [
      "\n"
     ]
    }
   ],
   "source": [
    "from PIL import Image, ImageEnhance\n",
    "import easyocr\n",
    "from pdf2image import convert_from_path\n",
    "import os\n",
    "from tqdm import tqdm  # For progress bar\n",
    "\n",
    "\n",
    "def preprocess_image(image_path):\n",
    "    # Open image using PIL\n",
    "    img = Image.open(image_path)\n",
    "    \n",
    "    # Enhance contrast\n",
    "    enhancer = ImageEnhance.Contrast(img)\n",
    "    img = enhancer.enhance(2.0)\n",
    "\n",
    "    # Convert to grayscale\n",
    "    img = img.convert('L')\n",
    "    \n",
    "    # Binarize (convert to black and white)\n",
    "    img = img.point(lambda x: 0 if x < 128 else 255, '1')\n",
    "\n",
    "    # Save the preprocessed image\n",
    "    img.save(image_path)\n",
    "\n",
    "\n",
    "def extract_lines_rtl(results):\n",
    "    \"\"\"\n",
    "    Processes OCR results line by line, preserving the right-to-left order for Arabic.\n",
    "    \"\"\"\n",
    "    # Group results into lines by sorting vertically (top-to-bottom)\n",
    "    sorted_results = sorted(results, key=lambda x: x[0][0][1])  # Sort by top-left y-coordinate\n",
    "    \n",
    "    # Group lines and sort text within each line from right-to-left\n",
    "    lines = []\n",
    "    current_line = []\n",
    "    prev_y = None\n",
    "    \n",
    "    # Threshold for line grouping (adjust as needed)\n",
    "    line_spacing_threshold = 15\n",
    "\n",
    "    for (bbox, text, _) in sorted_results:\n",
    "        top_left = bbox[0]  # Top-left corner of the bounding box\n",
    "        current_y = top_left[1]\n",
    "\n",
    "        if prev_y is not None and abs(current_y - prev_y) > line_spacing_threshold:\n",
    "            # Sort the current line from right to left (by x-coordinate)\n",
    "            current_line = sorted(current_line, key=lambda x: x[0][0][0], reverse=True)\n",
    "            # Append sorted line to lines\n",
    "            lines.append(\" \".join([text for _, text, _ in current_line]))\n",
    "            current_line = []\n",
    "\n",
    "        current_line.append((bbox, text, _))\n",
    "        prev_y = current_y\n",
    "\n",
    "    # Sort and append the last line\n",
    "    if current_line:\n",
    "        current_line = sorted(current_line, key=lambda x: x[0][0][0], reverse=True)\n",
    "        lines.append(\" \".join([text for _, text, _ in current_line]))\n",
    "\n",
    "    return lines\n",
    "\n",
    "\n",
    "def extract_text_from_pdf(pdf_path, output_txt_path, lang='ar', gpu=False):\n",
    "    # Initialize EasyOCR reader for Arabic only\n",
    "    reader = easyocr.Reader([lang], gpu=gpu)\n",
    "    \n",
    "    # Convert PDF pages to images\n",
    "    print(\"Converting PDF to images...\")\n",
    "    pages = convert_from_path(pdf_path)\n",
    "    \n",
    "    # Create a directory to store temporary images\n",
    "    temp_dir = \"temp_images\"\n",
    "    os.makedirs(temp_dir, exist_ok=True)\n",
    "\n",
    "    # Prepare text storage\n",
    "    all_text = \"\"\n",
    "\n",
    "    # Process each page with a progress bar\n",
    "    print(\"Processing images for OCR...\")\n",
    "    for i, page in enumerate(tqdm(pages, desc=\"OCR Progress\", unit=\"page\")):\n",
    "        image_path = os.path.join(temp_dir, f\"page_{i+1}.jpg\")\n",
    "        page.save(image_path, 'JPEG')\n",
    "        \n",
    "        # Preprocess the image\n",
    "        preprocess_image(image_path)\n",
    "        \n",
    "        # Perform OCR on the image\n",
    "        results = reader.readtext(image_path)\n",
    "        \n",
    "        # Extract lines and sort them from right-to-left\n",
    "        lines = extract_lines_rtl(results)\n",
    "\n",
    "        # Add page divider and lines to the final output\n",
    "        all_text += f\"=== Page {i+1} ===\\n\"\n",
    "        all_text += \"\\n\".join(lines) + \"\\n\\n\"  # Separate lines with single newline\n",
    "\n",
    "    # Save the extracted text to a .txt file\n",
    "    print(\"Saving extracted text to file...\")\n",
    "    with open(output_txt_path, 'w', encoding='utf-8') as f:\n",
    "        f.write(all_text)\n",
    "\n",
    "    # Cleanup temporary images\n",
    "    for image_file in os.listdir(temp_dir):\n",
    "        os.remove(os.path.join(temp_dir, image_file))\n",
    "    os.rmdir(temp_dir)\n",
    "\n",
    "    print(f\"Text extraction complete. Saved to {output_txt_path}\")\n",
    "\n",
    "\n",
    "# Example Usage\n",
    "pdf_path = \"../Data/old_cases/9_26.pdf\"  # Replace with your PDF file path\n",
    "output_txt_path = \"extracted_text_rtl.txt\"  # Replace with desired output .txt file path\n",
    "\n",
    "extract_text_from_pdf(pdf_path, output_txt_path, lang='ar', gpu=True)"
   ]
  },
  {
   "cell_type": "code",
   "execution_count": null,
   "metadata": {},
   "outputs": [],
   "source": []
  }
 ],
 "metadata": {
  "kernelspec": {
   "display_name": "masar_project",
   "language": "python",
   "name": "python3"
  },
  "language_info": {
   "codemirror_mode": {
    "name": "ipython",
    "version": 3
   },
   "file_extension": ".py",
   "mimetype": "text/x-python",
   "name": "python",
   "nbconvert_exporter": "python",
   "pygments_lexer": "ipython3",
   "version": "3.10.16"
  }
 },
 "nbformat": 4,
 "nbformat_minor": 2
}
